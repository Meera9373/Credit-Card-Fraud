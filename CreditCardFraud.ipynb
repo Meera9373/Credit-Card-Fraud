{
  "nbformat": 4,
  "nbformat_minor": 0,
  "metadata": {
    "colab": {
      "name": "CreditCardFraud.ipynb",
      "provenance": []
    },
    "kernelspec": {
      "name": "python3",
      "display_name": "Python 3"
    },
    "language_info": {
      "name": "python"
    }
  },
  "cells": [
    {
      "cell_type": "markdown",
      "source": [
        "# Detecting Credit Card Fraud based on Amount spent (point anomaly)"
      ],
      "metadata": {
        "id": "vqCv8EEeVGNr"
      }
    },
    {
      "cell_type": "markdown",
      "source": [
        "## Import Libraries"
      ],
      "metadata": {
        "id": "TnLMdsnDu1T2"
      }
    },
    {
      "cell_type": "code",
      "source": [
        "import pandas as pd \n",
        "from pandas import read_csv\n",
        "import numpy as np\n",
        "import matplotlib\n",
        "import matplotlib.pyplot as plt\n",
        "from sklearn.model_selection import train_test_split\n",
        "from sklearn.metrics import classification_report, accuracy_score\n",
        "from sklearn.metrics import confusion_matrix\n",
        "from sklearn.linear_model import LogisticRegression\n",
        "from sklearn import metrics\n",
        "import seaborn as sns\n"
      ],
      "metadata": {
        "id": "ujZ0wueUVPZD"
      },
      "execution_count": 2,
      "outputs": []
    },
    {
      "cell_type": "code",
      "source": [
        "from google.colab import drive\n",
        "drive.mount('/content/gdrive')"
      ],
      "metadata": {
        "colab": {
          "base_uri": "https://localhost:8080/"
        },
        "id": "5lR3MB1HYa3D",
        "outputId": "5ab9de09-36bc-40e0-8ea1-02e382ab45c8"
      },
      "execution_count": 3,
      "outputs": [
        {
          "output_type": "stream",
          "name": "stdout",
          "text": [
            "Mounted at /content/gdrive\n"
          ]
        }
      ]
    },
    {
      "cell_type": "code",
      "source": [
        "fileName = \"/content/gdrive/MyDrive/CreditCardFraudDetection/creditcard.csv\"\n",
        "dataset = pd.read_csv(fileName)"
      ],
      "metadata": {
        "id": "Ge5-rz1WYygV"
      },
      "execution_count": 4,
      "outputs": []
    },
    {
      "cell_type": "code",
      "source": [
        "print(dataset.shape)\n",
        "print(dataset.head(20))\n",
        "print(dataset.describe())"
      ],
      "metadata": {
        "colab": {
          "base_uri": "https://localhost:8080/"
        },
        "id": "8lioHRtdZ2EL",
        "outputId": "c240052a-6e18-47cd-880d-e92dafc466b2"
      },
      "execution_count": 5,
      "outputs": [
        {
          "output_type": "stream",
          "name": "stdout",
          "text": [
            "(284807, 31)\n",
            "    Time        V1        V2        V3  ...       V27       V28  Amount  Class\n",
            "0    0.0 -1.359807 -0.072781  2.536347  ...  0.133558 -0.021053  149.62      0\n",
            "1    0.0  1.191857  0.266151  0.166480  ... -0.008983  0.014724    2.69      0\n",
            "2    1.0 -1.358354 -1.340163  1.773209  ... -0.055353 -0.059752  378.66      0\n",
            "3    1.0 -0.966272 -0.185226  1.792993  ...  0.062723  0.061458  123.50      0\n",
            "4    2.0 -1.158233  0.877737  1.548718  ...  0.219422  0.215153   69.99      0\n",
            "5    2.0 -0.425966  0.960523  1.141109  ...  0.253844  0.081080    3.67      0\n",
            "6    4.0  1.229658  0.141004  0.045371  ...  0.034507  0.005168    4.99      0\n",
            "7    7.0 -0.644269  1.417964  1.074380  ... -1.206921 -1.085339   40.80      0\n",
            "8    7.0 -0.894286  0.286157 -0.113192  ...  0.011747  0.142404   93.20      0\n",
            "9    9.0 -0.338262  1.119593  1.044367  ...  0.246219  0.083076    3.68      0\n",
            "10  10.0  1.449044 -1.176339  0.913860  ...  0.042850  0.016253    7.80      0\n",
            "11  10.0  0.384978  0.616109 -0.874300  ...  0.042472 -0.054337    9.99      0\n",
            "12  10.0  1.249999 -1.221637  0.383930  ...  0.026416  0.042422  121.50      0\n",
            "13  11.0  1.069374  0.287722  0.828613  ...  0.021491  0.021293   27.50      0\n",
            "14  12.0 -2.791855 -0.327771  1.641750  ... -0.164778 -0.030154   58.80      0\n",
            "15  12.0 -0.752417  0.345485  2.057323  ... -0.180998  0.129394   15.99      0\n",
            "16  12.0  1.103215 -0.040296  1.267332  ...  0.092809  0.037051   12.99      0\n",
            "17  13.0 -0.436905  0.918966  0.924591  ...  0.079692  0.131024    0.89      0\n",
            "18  14.0 -5.401258 -5.450148  1.186305  ...  0.392053  0.949594   46.80      0\n",
            "19  15.0  1.492936 -1.029346  0.454795  ...  0.022298  0.007602    5.00      0\n",
            "\n",
            "[20 rows x 31 columns]\n",
            "                Time            V1  ...         Amount          Class\n",
            "count  284807.000000  2.848070e+05  ...  284807.000000  284807.000000\n",
            "mean    94813.859575  3.918649e-15  ...      88.349619       0.001727\n",
            "std     47488.145955  1.958696e+00  ...     250.120109       0.041527\n",
            "min         0.000000 -5.640751e+01  ...       0.000000       0.000000\n",
            "25%     54201.500000 -9.203734e-01  ...       5.600000       0.000000\n",
            "50%     84692.000000  1.810880e-02  ...      22.000000       0.000000\n",
            "75%    139320.500000  1.315642e+00  ...      77.165000       0.000000\n",
            "max    172792.000000  2.454930e+00  ...   25691.160000       1.000000\n",
            "\n",
            "[8 rows x 31 columns]\n"
          ]
        }
      ]
    },
    {
      "cell_type": "code",
      "source": [
        "dataset.isna().any()"
      ],
      "metadata": {
        "colab": {
          "base_uri": "https://localhost:8080/"
        },
        "id": "GSpUE8P7ba1v",
        "outputId": "40c8a7ba-232b-42b6-d79c-b518fee36d1c"
      },
      "execution_count": 6,
      "outputs": [
        {
          "output_type": "execute_result",
          "data": {
            "text/plain": [
              "Time      False\n",
              "V1        False\n",
              "V2        False\n",
              "V3        False\n",
              "V4        False\n",
              "V5        False\n",
              "V6        False\n",
              "V7        False\n",
              "V8        False\n",
              "V9        False\n",
              "V10       False\n",
              "V11       False\n",
              "V12       False\n",
              "V13       False\n",
              "V14       False\n",
              "V15       False\n",
              "V16       False\n",
              "V17       False\n",
              "V18       False\n",
              "V19       False\n",
              "V20       False\n",
              "V21       False\n",
              "V22       False\n",
              "V23       False\n",
              "V24       False\n",
              "V25       False\n",
              "V26       False\n",
              "V27       False\n",
              "V28       False\n",
              "Amount    False\n",
              "Class     False\n",
              "dtype: bool"
            ]
          },
          "metadata": {},
          "execution_count": 6
        }
      ]
    },
    {
      "cell_type": "markdown",
      "source": [
        "## Find Percentage of Not Fraud transaction Data\n",
        "\n",
        "1.dataset[‘Class’] = 0 Not a fraud,\n",
        "2.dataset[‘Class’] = 1 Fraud"
      ],
      "metadata": {
        "id": "ejrF09Y8bpks"
      }
    },
    {
      "cell_type": "code",
      "source": [
        "nfcount=0\n",
        "notFraud=dataset['Class']\n",
        "\n",
        "for i in range(len(notFraud)):\n",
        "  if notFraud[i]==0:\n",
        "    nfcount=nfcount+1\n",
        "    nfcount    \n",
        "per_nf=(nfcount/len(notFraud))*100\n",
        "print('percentage of total not fraud transaction in the dataset: ',per_nf)"
      ],
      "metadata": {
        "colab": {
          "base_uri": "https://localhost:8080/"
        },
        "id": "9dwvaye7caKA",
        "outputId": "8c8696da-e355-41d2-a2d5-989fe23b92ce"
      },
      "execution_count": 7,
      "outputs": [
        {
          "output_type": "stream",
          "name": "stdout",
          "text": [
            "percentage of total not fraud transaction in the dataset:  99.82725143693798\n"
          ]
        }
      ]
    },
    {
      "cell_type": "markdown",
      "source": [
        "## Find Percentage of Fraud transaction Data"
      ],
      "metadata": {
        "id": "TPLfvF1KvinQ"
      }
    },
    {
      "cell_type": "code",
      "source": [
        "fcount=0\n",
        "Fraud=dataset['Class']\n",
        "for i in range(len(Fraud)):\n",
        "  if Fraud[i]==1:\n",
        "    fcount=fcount+1\n",
        "\n",
        "fcount    \n",
        "per_f=(fcount/len(Fraud))*100\n",
        "print('percentage of total fraud transaction in the dataset: ',per_f)"
      ],
      "metadata": {
        "colab": {
          "base_uri": "https://localhost:8080/"
        },
        "id": "td9NXNMVdKsA",
        "outputId": "61bcaf65-9c2c-423d-cc50-cedf88977762"
      },
      "execution_count": 8,
      "outputs": [
        {
          "output_type": "stream",
          "name": "stdout",
          "text": [
            "percentage of total fraud transaction in the dataset:  0.1727485630620034\n"
          ]
        }
      ]
    },
    {
      "cell_type": "markdown",
      "source": [
        "## Plot Fraud transaction vs Non-Fraud transaction\n",
        "### Plot Amount Vs Time:"
      ],
      "metadata": {
        "id": "jM1fo8XnwhsG"
      }
    },
    {
      "cell_type": "code",
      "source": [
        "x=dataset['Time']\n",
        "y=dataset['Amount']\n",
        "plt.plot(x, y) \n",
        "plt.title('Time Vs amount')"
      ],
      "metadata": {
        "colab": {
          "base_uri": "https://localhost:8080/",
          "height": 298
        },
        "id": "ENq9rww0wLB8",
        "outputId": "06fcf51d-7f7b-423f-934d-2904c7ced599"
      },
      "execution_count": 9,
      "outputs": [
        {
          "output_type": "execute_result",
          "data": {
            "text/plain": [
              "Text(0.5, 1.0, 'Time Vs amount')"
            ]
          },
          "metadata": {},
          "execution_count": 9
        },
        {
          "output_type": "display_data",
          "data": {
            "image/png": "[encoded data removed]",
            "text/plain": [
              "<Figure size 432x288 with 1 Axes>"
            ]
          },
          "metadata": {
            "needs_background": "light"
          }
        }
      ]
    },
    {
      "cell_type": "markdown",
      "source": [
        "## Plot Amount Distribution Curve:"
      ],
      "metadata": {
        "id": "ub4Sjvr5w6XM"
      }
    },
    {
      "cell_type": "code",
      "source": [
        "plt.figure(figsize=(10,8), )\n",
        "plt.title('Amount Distribution')\n",
        "sns.distplot(dataset['Amount'],color='red');"
      ],
      "metadata": {
        "colab": {
          "base_uri": "https://localhost:8080/",
          "height": 568
        },
        "id": "HJU_WReHw18z",
        "outputId": "8e32b32c-2e44-47ee-c877-ac3152534e09"
      },
      "execution_count": 10,
      "outputs": [
        {
          "output_type": "stream",
          "name": "stderr",
          "text": [
            "/usr/local/lib/python3.7/dist-packages/seaborn/distributions.py:2619: FutureWarning: `distplot` is a deprecated function and will be removed in a future version. Please adapt your code to use either `displot` (a figure-level function with similar flexibility) or `histplot` (an axes-level function for histograms).\n",
            "  warnings.warn(msg, FutureWarning)\n"
          ]
        },
        {
          "output_type": "display_data",
          "data": {
            "image/png": "[encoded data removed]",
            "text/plain": [
              "<Figure size 720x576 with 1 Axes>"
            ]
          },
          "metadata": {
            "needs_background": "light"
          }
        }
      ]
    },
    {
      "cell_type": "markdown",
      "source": [
        "## Correlation between all attribute"
      ],
      "metadata": {
        "id": "eGFPZ_i7xLk-"
      }
    },
    {
      "cell_type": "code",
      "source": [
        "correlation_metrics = dataset.corr() \n",
        "fig = plt.figure(figsize = (14, 9))\n",
        "sns.heatmap(correlation_metrics, vmax = .9, square = True)\n",
        "plt.show()"
      ],
      "metadata": {
        "colab": {
          "base_uri": "https://localhost:8080/",
          "height": 566
        },
        "id": "JS0Z6dEjxHVr",
        "outputId": "d10f117f-ffe6-48ed-e296-c4082fd31f00"
      },
      "execution_count": 11,
      "outputs": [
        {
          "output_type": "display_data",
          "data": {
            "image/png": "[encoded data removed]",
            "text/plain": [
              "<Figure size 1008x648 with 2 Axes>"
            ]
          },
          "metadata": {
            "needs_background": "light"
          }
        }
      ]
    },
    {
      "cell_type": "code",
      "source": [
        "x=dataset.drop(['Class'], axis = 1)#drop the target variable\n",
        "y=dataset['Class']\n",
        "xtrain, xtest, ytrain, ytest = train_test_split(x, y, test_size = 0.2, random_state = 42)"
      ],
      "metadata": {
        "id": "U3OJn_tyxZEk"
      },
      "execution_count": 12,
      "outputs": []
    },
    {
      "cell_type": "code",
      "source": [
        "from sklearn.linear_model import LinearRegression\n",
        "linear =LinearRegression()\n",
        "linear.fit(xtrain, ytrain)"
      ],
      "metadata": {
        "colab": {
          "base_uri": "https://localhost:8080/"
        },
        "id": "w1KhwN2fxs8I",
        "outputId": "90bd4efd-0870-484b-be69-26b3306a4d3a"
      },
      "execution_count": 13,
      "outputs": [
        {
          "output_type": "execute_result",
          "data": {
            "text/plain": [
              "LinearRegression()"
            ]
          },
          "metadata": {},
          "execution_count": 13
        }
      ]
    },
    {
      "cell_type": "code",
      "source": [
        "y_pred = linear.predict(xtest)\n",
        "table= pd.DataFrame({\"actual\":ytest,\" predicted\":y_pred})\n",
        "table"
      ],
      "metadata": {
        "colab": {
          "base_uri": "https://localhost:8080/",
          "height": 349
        },
        "id": "RqaPcyD7x66c",
        "outputId": "970096f8-780a-4d3f-deca-b7d3759ccbf6"
      },
      "execution_count": 16,
      "outputs": [
        {
          "output_type": "execute_result",
          "data": {
            "text/html": [
              "\n",
              "  <div id=\"df-0db409ef-3d26-4a60-9e9f-f599f3512080\">\n",
              "    <div class=\"colab-df-container\">\n",
              "      <div>\n",
              "<style scoped>\n",
              "    .dataframe tbody tr th:only-of-type {\n",
              "        vertical-align: middle;\n",
              "    }\n",
              "\n",
              "    .dataframe tbody tr th {\n",
              "        vertical-align: top;\n",
              "    }\n",
              "\n",
              "    .dataframe thead th {\n",
              "        text-align: right;\n",
              "    }\n",
              "</style>\n",
              "<table border=\"1\" class=\"dataframe\">\n",
              "  <thead>\n",
              "    <tr style=\"text-align: right;\">\n",
              "      <th></th>\n",
              "      <th>actual</th>\n",
              "      <th>predicted</th>\n",
              "    </tr>\n",
              "  </thead>\n",
              "  <tbody>\n",
              "    <tr>\n",
              "      <th>43428</th>\n",
              "      <td>1</td>\n",
              "      <td>1.218185</td>\n",
              "    </tr>\n",
              "    <tr>\n",
              "      <th>49906</th>\n",
              "      <td>0</td>\n",
              "      <td>-0.000578</td>\n",
              "    </tr>\n",
              "    <tr>\n",
              "      <th>29474</th>\n",
              "      <td>0</td>\n",
              "      <td>-0.000726</td>\n",
              "    </tr>\n",
              "    <tr>\n",
              "      <th>276481</th>\n",
              "      <td>0</td>\n",
              "      <td>0.002957</td>\n",
              "    </tr>\n",
              "    <tr>\n",
              "      <th>278846</th>\n",
              "      <td>0</td>\n",
              "      <td>-0.001548</td>\n",
              "    </tr>\n",
              "    <tr>\n",
              "      <th>...</th>\n",
              "      <td>...</td>\n",
              "      <td>...</td>\n",
              "    </tr>\n",
              "    <tr>\n",
              "      <th>75723</th>\n",
              "      <td>0</td>\n",
              "      <td>-0.004392</td>\n",
              "    </tr>\n",
              "    <tr>\n",
              "      <th>252263</th>\n",
              "      <td>0</td>\n",
              "      <td>-0.000725</td>\n",
              "    </tr>\n",
              "    <tr>\n",
              "      <th>221246</th>\n",
              "      <td>0</td>\n",
              "      <td>0.001325</td>\n",
              "    </tr>\n",
              "    <tr>\n",
              "      <th>81910</th>\n",
              "      <td>0</td>\n",
              "      <td>0.001081</td>\n",
              "    </tr>\n",
              "    <tr>\n",
              "      <th>59490</th>\n",
              "      <td>0</td>\n",
              "      <td>0.005022</td>\n",
              "    </tr>\n",
              "  </tbody>\n",
              "</table>\n",
              "<p>56962 rows × 2 columns</p>\n",
              "</div>\n",
              "      <button class=\"colab-df-convert\" onclick=\"convertToInteractive('df-0db409ef-3d26-4a60-9e9f-f599f3512080')\"\n",
              "              title=\"Convert this dataframe to an interactive table.\"\n",
              "              style=\"display:none;\">\n",
              "        \n",
              "  <svg xmlns=\"http://www.w3.org/2000/svg\" height=\"24px\"viewBox=\"0 0 24 24\"\n",
              "       width=\"24px\">\n",
              "    <path d=\"M0 0h24v24H0V0z\" fill=\"none\"/>\n",
              "    <path d=\"M18.56 5.44l.94 2.06.94-2.06 2.06-.94-2.06-.94-.94-2.06-.94 2.06-2.06.94zm-11 1L8.5 8.5l.94-2.06 2.06-.94-2.06-.94L8.5 2.5l-.94 2.06-2.06.94zm10 10l.94 2.06.94-2.06 2.06-.94-2.06-.94-.94-2.06-.94 2.06-2.06.94z\"/><path d=\"M17.41 7.96l-1.37-1.37c-.4-.4-.92-.59-1.43-.59-.52 0-1.04.2-1.43.59L10.3 9.45l-7.72 7.72c-.78.78-.78 2.05 0 2.83L4 21.41c.39.39.9.59 1.41.59.51 0 1.02-.2 1.41-.59l7.78-7.78 2.81-2.81c.8-.78.8-2.07 0-2.86zM5.41 20L4 18.59l7.72-7.72 1.47 1.35L5.41 20z\"/>\n",
              "  </svg>\n",
              "      </button>\n",
              "      \n",
              "  <style>\n",
              "    .colab-df-container {\n",
              "      display:flex;\n",
              "      flex-wrap:wrap;\n",
              "      gap: 12px;\n",
              "    }\n",
              "\n",
              "    .colab-df-convert {\n",
              "      background-color: #E8F0FE;\n",
              "      border: none;\n",
              "      border-radius: 50%;\n",
              "      cursor: pointer;\n",
              "      display: none;\n",
              "      fill: #1967D2;\n",
              "      height: 32px;\n",
              "      padding: 0 0 0 0;\n",
              "      width: 32px;\n",
              "    }\n",
              "\n",
              "    .colab-df-convert:hover {\n",
              "      background-color: #E2EBFA;\n",
              "      box-shadow: 0px 1px 2px rgba(60, 64, 67, 0.3), 0px 1px 3px 1px rgba(60, 64, 67, 0.15);\n",
              "      fill: #174EA6;\n",
              "    }\n",
              "\n",
              "    [theme=dark] .colab-df-convert {\n",
              "      background-color: #3B4455;\n",
              "      fill: #D2E3FC;\n",
              "    }\n",
              "\n",
              "    [theme=dark] .colab-df-convert:hover {\n",
              "      background-color: #434B5C;\n",
              "      box-shadow: 0px 1px 3px 1px rgba(0, 0, 0, 0.15);\n",
              "      filter: drop-shadow(0px 1px 2px rgba(0, 0, 0, 0.3));\n",
              "      fill: #FFFFFF;\n",
              "    }\n",
              "  </style>\n",
              "\n",
              "      <script>\n",
              "        const buttonEl =\n",
              "          document.querySelector('#df-0db409ef-3d26-4a60-9e9f-f599f3512080 button.colab-df-convert');\n",
              "        buttonEl.style.display =\n",
              "          google.colab.kernel.accessAllowed ? 'block' : 'none';\n",
              "\n",
              "        async function convertToInteractive(key) {\n",
              "          const element = document.querySelector('#df-0db409ef-3d26-4a60-9e9f-f599f3512080');\n",
              "          const dataTable =\n",
              "            await google.colab.kernel.invokeFunction('convertToInteractive',\n",
              "                                                     [key], {});\n",
              "          if (!dataTable) return;\n",
              "\n",
              "          const docLinkHtml = 'Like what you see? Visit the ' +\n",
              "            '<a target=\"_blank\" href=https://colab.research.google.com/notebooks/data_table.ipynb>data table notebook</a>'\n",
              "            + ' to learn more about interactive tables.';\n",
              "          element.innerHTML = '';\n",
              "          dataTable['output_type'] = 'display_data';\n",
              "          await google.colab.output.renderOutput(dataTable, element);\n",
              "          const docLink = document.createElement('div');\n",
              "          docLink.innerHTML = docLinkHtml;\n",
              "          element.appendChild(docLink);\n",
              "        }\n",
              "      </script>\n",
              "    </div>\n",
              "  </div>\n",
              "  "
            ],
            "text/plain": [
              "        actual   predicted\n",
              "43428        1    1.218185\n",
              "49906        0   -0.000578\n",
              "29474        0   -0.000726\n",
              "276481       0    0.002957\n",
              "278846       0   -0.001548\n",
              "...        ...         ...\n",
              "75723        0   -0.004392\n",
              "252263       0   -0.000725\n",
              "221246       0    0.001325\n",
              "81910        0    0.001081\n",
              "59490        0    0.005022\n",
              "\n",
              "[56962 rows x 2 columns]"
            ]
          },
          "metadata": {},
          "execution_count": 16
        },
        {
          "output_type": "stream",
          "name": "stdout",
          "text": [
            "Warning: total number of rows (56962) exceeds max_rows (20000). Limiting to first (20000) rows.\n"
          ]
        }
      ]
    },
    {
      "cell_type": "code",
      "source": [
        ""
      ],
      "metadata": {
        "id": "bhp0hCfnyD4L"
      },
      "execution_count": null,
      "outputs": []
    }
  ]
}